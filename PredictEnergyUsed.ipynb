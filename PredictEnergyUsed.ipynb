{
 "cells": [
  {
   "cell_type": "code",
   "execution_count": 53,
   "metadata": {},
   "outputs": [
    {
     "data": {
      "text/html": [
       "<div>\n",
       "<style>\n",
       "    .dataframe thead tr:only-child th {\n",
       "        text-align: right;\n",
       "    }\n",
       "\n",
       "    .dataframe thead th {\n",
       "        text-align: left;\n",
       "    }\n",
       "\n",
       "    .dataframe tbody tr th {\n",
       "        vertical-align: top;\n",
       "    }\n",
       "</style>\n",
       "<table border=\"1\" class=\"dataframe\">\n",
       "  <thead>\n",
       "    <tr style=\"text-align: right;\">\n",
       "      <th></th>\n",
       "      <th>Observation</th>\n",
       "      <th>T1</th>\n",
       "      <th>RH_1</th>\n",
       "      <th>T2</th>\n",
       "      <th>RH_2</th>\n",
       "      <th>T3</th>\n",
       "      <th>RH_3</th>\n",
       "      <th>T4</th>\n",
       "      <th>RH_4</th>\n",
       "      <th>T5</th>\n",
       "      <th>...</th>\n",
       "      <th>RH_8</th>\n",
       "      <th>T9</th>\n",
       "      <th>RH_9</th>\n",
       "      <th>T_out</th>\n",
       "      <th>Press_mm_hg</th>\n",
       "      <th>RH_out</th>\n",
       "      <th>Windspeed</th>\n",
       "      <th>Visibility</th>\n",
       "      <th>Tdewpoint</th>\n",
       "      <th>Energy</th>\n",
       "    </tr>\n",
       "  </thead>\n",
       "  <tbody>\n",
       "    <tr>\n",
       "      <th>0</th>\n",
       "      <td>1111</td>\n",
       "      <td>22.700000</td>\n",
       "      <td>37.200</td>\n",
       "      <td>21.000000</td>\n",
       "      <td>38.000000</td>\n",
       "      <td>23.390000</td>\n",
       "      <td>37.290000</td>\n",
       "      <td>22.832857</td>\n",
       "      <td>34.942857</td>\n",
       "      <td>20.500000</td>\n",
       "      <td>...</td>\n",
       "      <td>45.360000</td>\n",
       "      <td>20.20</td>\n",
       "      <td>38.663333</td>\n",
       "      <td>12.80</td>\n",
       "      <td>760.050000</td>\n",
       "      <td>62.000000</td>\n",
       "      <td>3.5</td>\n",
       "      <td>28.0</td>\n",
       "      <td>5.65</td>\n",
       "      <td>70</td>\n",
       "    </tr>\n",
       "    <tr>\n",
       "      <th>1</th>\n",
       "      <td>1112</td>\n",
       "      <td>21.500000</td>\n",
       "      <td>41.045</td>\n",
       "      <td>20.500000</td>\n",
       "      <td>39.133333</td>\n",
       "      <td>22.926667</td>\n",
       "      <td>39.526667</td>\n",
       "      <td>21.700000</td>\n",
       "      <td>34.126667</td>\n",
       "      <td>18.633333</td>\n",
       "      <td>...</td>\n",
       "      <td>34.663333</td>\n",
       "      <td>19.73</td>\n",
       "      <td>37.933333</td>\n",
       "      <td>8.47</td>\n",
       "      <td>764.166667</td>\n",
       "      <td>48.166667</td>\n",
       "      <td>8.0</td>\n",
       "      <td>26.5</td>\n",
       "      <td>-1.92</td>\n",
       "      <td>210</td>\n",
       "    </tr>\n",
       "    <tr>\n",
       "      <th>2</th>\n",
       "      <td>1113</td>\n",
       "      <td>21.666667</td>\n",
       "      <td>38.000</td>\n",
       "      <td>22.600000</td>\n",
       "      <td>35.700000</td>\n",
       "      <td>21.890000</td>\n",
       "      <td>36.590000</td>\n",
       "      <td>22.000000</td>\n",
       "      <td>35.530000</td>\n",
       "      <td>19.000000</td>\n",
       "      <td>...</td>\n",
       "      <td>38.545000</td>\n",
       "      <td>19.79</td>\n",
       "      <td>39.430000</td>\n",
       "      <td>10.60</td>\n",
       "      <td>757.600000</td>\n",
       "      <td>57.000000</td>\n",
       "      <td>2.0</td>\n",
       "      <td>27.0</td>\n",
       "      <td>2.40</td>\n",
       "      <td>50</td>\n",
       "    </tr>\n",
       "    <tr>\n",
       "      <th>3</th>\n",
       "      <td>1114</td>\n",
       "      <td>23.290000</td>\n",
       "      <td>38.530</td>\n",
       "      <td>21.671429</td>\n",
       "      <td>38.000000</td>\n",
       "      <td>24.290000</td>\n",
       "      <td>36.200000</td>\n",
       "      <td>23.100000</td>\n",
       "      <td>35.090000</td>\n",
       "      <td>22.042857</td>\n",
       "      <td>...</td>\n",
       "      <td>38.600000</td>\n",
       "      <td>22.60</td>\n",
       "      <td>36.194286</td>\n",
       "      <td>11.60</td>\n",
       "      <td>760.600000</td>\n",
       "      <td>63.000000</td>\n",
       "      <td>1.0</td>\n",
       "      <td>40.0</td>\n",
       "      <td>4.67</td>\n",
       "      <td>50</td>\n",
       "    </tr>\n",
       "    <tr>\n",
       "      <th>4</th>\n",
       "      <td>1115</td>\n",
       "      <td>24.000000</td>\n",
       "      <td>42.560</td>\n",
       "      <td>26.830000</td>\n",
       "      <td>34.356000</td>\n",
       "      <td>26.530000</td>\n",
       "      <td>40.333333</td>\n",
       "      <td>24.500000</td>\n",
       "      <td>40.900000</td>\n",
       "      <td>21.500000</td>\n",
       "      <td>...</td>\n",
       "      <td>44.230000</td>\n",
       "      <td>22.60</td>\n",
       "      <td>44.090000</td>\n",
       "      <td>17.70</td>\n",
       "      <td>756.983333</td>\n",
       "      <td>63.000000</td>\n",
       "      <td>1.0</td>\n",
       "      <td>21.5</td>\n",
       "      <td>10.40</td>\n",
       "      <td>250</td>\n",
       "    </tr>\n",
       "  </tbody>\n",
       "</table>\n",
       "<p>5 rows × 26 columns</p>\n",
       "</div>"
      ],
      "text/plain": [
       "   Observation         T1    RH_1         T2       RH_2         T3       RH_3  \\\n",
       "0         1111  22.700000  37.200  21.000000  38.000000  23.390000  37.290000   \n",
       "1         1112  21.500000  41.045  20.500000  39.133333  22.926667  39.526667   \n",
       "2         1113  21.666667  38.000  22.600000  35.700000  21.890000  36.590000   \n",
       "3         1114  23.290000  38.530  21.671429  38.000000  24.290000  36.200000   \n",
       "4         1115  24.000000  42.560  26.830000  34.356000  26.530000  40.333333   \n",
       "\n",
       "          T4       RH_4         T5   ...         RH_8     T9       RH_9  \\\n",
       "0  22.832857  34.942857  20.500000   ...    45.360000  20.20  38.663333   \n",
       "1  21.700000  34.126667  18.633333   ...    34.663333  19.73  37.933333   \n",
       "2  22.000000  35.530000  19.000000   ...    38.545000  19.79  39.430000   \n",
       "3  23.100000  35.090000  22.042857   ...    38.600000  22.60  36.194286   \n",
       "4  24.500000  40.900000  21.500000   ...    44.230000  22.60  44.090000   \n",
       "\n",
       "   T_out  Press_mm_hg     RH_out  Windspeed  Visibility  Tdewpoint  Energy  \n",
       "0  12.80   760.050000  62.000000        3.5        28.0       5.65      70  \n",
       "1   8.47   764.166667  48.166667        8.0        26.5      -1.92     210  \n",
       "2  10.60   757.600000  57.000000        2.0        27.0       2.40      50  \n",
       "3  11.60   760.600000  63.000000        1.0        40.0       4.67      50  \n",
       "4  17.70   756.983333  63.000000        1.0        21.5      10.40     250  \n",
       "\n",
       "[5 rows x 26 columns]"
      ]
     },
     "execution_count": 53,
     "metadata": {},
     "output_type": "execute_result"
    }
   ],
   "source": [
    "import pandas as pd\n",
    "\n",
    "energy_data = pd.read_csv('train.csv',skipinitialspace=True)\n",
    "energy_data.head()"
   ]
  },
  {
   "cell_type": "code",
   "execution_count": 55,
   "metadata": {},
   "outputs": [
    {
     "name": "stdout",
     "output_type": "stream",
     "text": [
      "<class 'pandas.core.frame.DataFrame'>\n",
      "RangeIndex: 15780 entries, 0 to 15779\n",
      "Data columns (total 26 columns):\n",
      "Observation    15780 non-null int64\n",
      "T1             15780 non-null float64\n",
      "RH_1           15780 non-null float64\n",
      "T2             15780 non-null float64\n",
      "RH_2           15780 non-null float64\n",
      "T3             15780 non-null float64\n",
      "RH_3           15780 non-null float64\n",
      "T4             15780 non-null float64\n",
      "RH_4           15780 non-null float64\n",
      "T5             15780 non-null float64\n",
      "RH_5           15780 non-null float64\n",
      "T6             15780 non-null float64\n",
      "RH_6           15780 non-null float64\n",
      "T7             15780 non-null float64\n",
      "RH_7           15780 non-null float64\n",
      "T8             15780 non-null float64\n",
      "RH_8           15780 non-null float64\n",
      "T9             15780 non-null float64\n",
      "RH_9           15780 non-null float64\n",
      "T_out          15780 non-null float64\n",
      "Press_mm_hg    15780 non-null float64\n",
      "RH_out         15780 non-null float64\n",
      "Windspeed      15780 non-null float64\n",
      "Visibility     15780 non-null float64\n",
      "Tdewpoint      15780 non-null float64\n",
      "Energy         15780 non-null int64\n",
      "dtypes: float64(24), int64(2)\n",
      "memory usage: 3.1 MB\n",
      "['Observation', 'T1', 'RH_1', 'T2', 'RH_2', 'T3', 'RH_3', 'T4', 'RH_4', 'T5', 'RH_5', 'T6', 'RH_6', 'T7', 'RH_7', 'T8', 'RH_8', 'T9', 'RH_9', 'T_out', 'Press_mm_hg', 'RH_out', 'Windspeed', 'Visibility', 'Tdewpoint', 'Energy']\n"
     ]
    }
   ],
   "source": [
    "#Description of data\n",
    "energy_data.info()\n",
    "print (energy_data.columns.tolist())"
   ]
  },
  {
   "cell_type": "code",
   "execution_count": 56,
   "metadata": {},
   "outputs": [
    {
     "data": {
      "text/html": [
       "<div>\n",
       "<style>\n",
       "    .dataframe thead tr:only-child th {\n",
       "        text-align: right;\n",
       "    }\n",
       "\n",
       "    .dataframe thead th {\n",
       "        text-align: left;\n",
       "    }\n",
       "\n",
       "    .dataframe tbody tr th {\n",
       "        vertical-align: top;\n",
       "    }\n",
       "</style>\n",
       "<table border=\"1\" class=\"dataframe\">\n",
       "  <thead>\n",
       "    <tr style=\"text-align: right;\">\n",
       "      <th></th>\n",
       "      <th>Observation</th>\n",
       "      <th>T1</th>\n",
       "      <th>RH_1</th>\n",
       "      <th>T2</th>\n",
       "      <th>RH_2</th>\n",
       "      <th>T3</th>\n",
       "      <th>RH_3</th>\n",
       "      <th>T4</th>\n",
       "      <th>RH_4</th>\n",
       "      <th>T5</th>\n",
       "      <th>...</th>\n",
       "      <th>RH_8</th>\n",
       "      <th>T9</th>\n",
       "      <th>RH_9</th>\n",
       "      <th>T_out</th>\n",
       "      <th>Press_mm_hg</th>\n",
       "      <th>RH_out</th>\n",
       "      <th>Windspeed</th>\n",
       "      <th>Visibility</th>\n",
       "      <th>Tdewpoint</th>\n",
       "      <th>Energy</th>\n",
       "    </tr>\n",
       "  </thead>\n",
       "  <tbody>\n",
       "    <tr>\n",
       "      <th>count</th>\n",
       "      <td>15780.000000</td>\n",
       "      <td>15780.000000</td>\n",
       "      <td>15780.000000</td>\n",
       "      <td>15780.000000</td>\n",
       "      <td>15780.000000</td>\n",
       "      <td>15780.000000</td>\n",
       "      <td>15780.000000</td>\n",
       "      <td>15780.000000</td>\n",
       "      <td>15780.000000</td>\n",
       "      <td>15780.000000</td>\n",
       "      <td>...</td>\n",
       "      <td>15780.000000</td>\n",
       "      <td>15780.000000</td>\n",
       "      <td>15780.000000</td>\n",
       "      <td>15780.000000</td>\n",
       "      <td>15780.000000</td>\n",
       "      <td>15780.000000</td>\n",
       "      <td>15780.000000</td>\n",
       "      <td>15780.000000</td>\n",
       "      <td>15780.000000</td>\n",
       "      <td>15780.000000</td>\n",
       "    </tr>\n",
       "    <tr>\n",
       "      <th>mean</th>\n",
       "      <td>9000.500000</td>\n",
       "      <td>21.683008</td>\n",
       "      <td>40.263077</td>\n",
       "      <td>20.339386</td>\n",
       "      <td>40.426604</td>\n",
       "      <td>22.265359</td>\n",
       "      <td>39.242550</td>\n",
       "      <td>20.853829</td>\n",
       "      <td>39.037623</td>\n",
       "      <td>19.591562</td>\n",
       "      <td>...</td>\n",
       "      <td>42.934090</td>\n",
       "      <td>19.489357</td>\n",
       "      <td>41.559527</td>\n",
       "      <td>7.414789</td>\n",
       "      <td>755.514104</td>\n",
       "      <td>79.756982</td>\n",
       "      <td>4.041824</td>\n",
       "      <td>38.378577</td>\n",
       "      <td>3.765539</td>\n",
       "      <td>97.294043</td>\n",
       "    </tr>\n",
       "    <tr>\n",
       "      <th>std</th>\n",
       "      <td>4555.437959</td>\n",
       "      <td>1.613157</td>\n",
       "      <td>3.983819</td>\n",
       "      <td>2.199896</td>\n",
       "      <td>4.085470</td>\n",
       "      <td>2.013391</td>\n",
       "      <td>3.247703</td>\n",
       "      <td>2.046331</td>\n",
       "      <td>4.337781</td>\n",
       "      <td>1.849086</td>\n",
       "      <td>...</td>\n",
       "      <td>5.223342</td>\n",
       "      <td>2.020488</td>\n",
       "      <td>4.135306</td>\n",
       "      <td>5.321081</td>\n",
       "      <td>7.385701</td>\n",
       "      <td>14.877160</td>\n",
       "      <td>2.447902</td>\n",
       "      <td>11.810273</td>\n",
       "      <td>4.202025</td>\n",
       "      <td>100.932234</td>\n",
       "    </tr>\n",
       "    <tr>\n",
       "      <th>min</th>\n",
       "      <td>1111.000000</td>\n",
       "      <td>16.790000</td>\n",
       "      <td>27.023333</td>\n",
       "      <td>16.100000</td>\n",
       "      <td>20.463333</td>\n",
       "      <td>17.200000</td>\n",
       "      <td>28.766667</td>\n",
       "      <td>15.100000</td>\n",
       "      <td>27.660000</td>\n",
       "      <td>15.330000</td>\n",
       "      <td>...</td>\n",
       "      <td>29.600000</td>\n",
       "      <td>14.890000</td>\n",
       "      <td>29.166667</td>\n",
       "      <td>-5.000000</td>\n",
       "      <td>729.300000</td>\n",
       "      <td>24.000000</td>\n",
       "      <td>0.000000</td>\n",
       "      <td>1.000000</td>\n",
       "      <td>-6.600000</td>\n",
       "      <td>10.000000</td>\n",
       "    </tr>\n",
       "    <tr>\n",
       "      <th>25%</th>\n",
       "      <td>5055.750000</td>\n",
       "      <td>20.730000</td>\n",
       "      <td>37.360000</td>\n",
       "      <td>18.790000</td>\n",
       "      <td>37.890000</td>\n",
       "      <td>20.790000</td>\n",
       "      <td>36.900000</td>\n",
       "      <td>19.500000</td>\n",
       "      <td>35.530000</td>\n",
       "      <td>18.270000</td>\n",
       "      <td>...</td>\n",
       "      <td>39.066667</td>\n",
       "      <td>18.000000</td>\n",
       "      <td>38.530000</td>\n",
       "      <td>3.680000</td>\n",
       "      <td>750.933333</td>\n",
       "      <td>70.166667</td>\n",
       "      <td>2.000000</td>\n",
       "      <td>29.000000</td>\n",
       "      <td>0.900000</td>\n",
       "      <td>50.000000</td>\n",
       "    </tr>\n",
       "    <tr>\n",
       "      <th>50%</th>\n",
       "      <td>9000.500000</td>\n",
       "      <td>21.600000</td>\n",
       "      <td>39.663333</td>\n",
       "      <td>20.000000</td>\n",
       "      <td>40.500000</td>\n",
       "      <td>22.100000</td>\n",
       "      <td>38.560000</td>\n",
       "      <td>20.666667</td>\n",
       "      <td>38.433333</td>\n",
       "      <td>19.390000</td>\n",
       "      <td>...</td>\n",
       "      <td>42.376214</td>\n",
       "      <td>19.390000</td>\n",
       "      <td>40.900000</td>\n",
       "      <td>6.930000</td>\n",
       "      <td>756.100000</td>\n",
       "      <td>83.666667</td>\n",
       "      <td>3.666667</td>\n",
       "      <td>40.000000</td>\n",
       "      <td>3.470000</td>\n",
       "      <td>60.000000</td>\n",
       "    </tr>\n",
       "    <tr>\n",
       "      <th>75%</th>\n",
       "      <td>12945.250000</td>\n",
       "      <td>22.600000</td>\n",
       "      <td>43.090000</td>\n",
       "      <td>21.530000</td>\n",
       "      <td>43.290000</td>\n",
       "      <td>23.290000</td>\n",
       "      <td>41.760000</td>\n",
       "      <td>22.100000</td>\n",
       "      <td>42.193333</td>\n",
       "      <td>20.633333</td>\n",
       "      <td>...</td>\n",
       "      <td>46.560000</td>\n",
       "      <td>20.600000</td>\n",
       "      <td>44.363333</td>\n",
       "      <td>10.400000</td>\n",
       "      <td>760.900000</td>\n",
       "      <td>91.666667</td>\n",
       "      <td>5.500000</td>\n",
       "      <td>40.000000</td>\n",
       "      <td>6.550000</td>\n",
       "      <td>100.000000</td>\n",
       "    </tr>\n",
       "    <tr>\n",
       "      <th>max</th>\n",
       "      <td>16890.000000</td>\n",
       "      <td>26.260000</td>\n",
       "      <td>63.360000</td>\n",
       "      <td>29.856667</td>\n",
       "      <td>56.026667</td>\n",
       "      <td>29.236000</td>\n",
       "      <td>50.163333</td>\n",
       "      <td>26.200000</td>\n",
       "      <td>51.090000</td>\n",
       "      <td>25.745000</td>\n",
       "      <td>...</td>\n",
       "      <td>58.780000</td>\n",
       "      <td>24.500000</td>\n",
       "      <td>53.326667</td>\n",
       "      <td>26.100000</td>\n",
       "      <td>772.300000</td>\n",
       "      <td>100.000000</td>\n",
       "      <td>14.000000</td>\n",
       "      <td>66.000000</td>\n",
       "      <td>15.500000</td>\n",
       "      <td>850.000000</td>\n",
       "    </tr>\n",
       "  </tbody>\n",
       "</table>\n",
       "<p>8 rows × 26 columns</p>\n",
       "</div>"
      ],
      "text/plain": [
       "        Observation            T1          RH_1            T2          RH_2  \\\n",
       "count  15780.000000  15780.000000  15780.000000  15780.000000  15780.000000   \n",
       "mean    9000.500000     21.683008     40.263077     20.339386     40.426604   \n",
       "std     4555.437959      1.613157      3.983819      2.199896      4.085470   \n",
       "min     1111.000000     16.790000     27.023333     16.100000     20.463333   \n",
       "25%     5055.750000     20.730000     37.360000     18.790000     37.890000   \n",
       "50%     9000.500000     21.600000     39.663333     20.000000     40.500000   \n",
       "75%    12945.250000     22.600000     43.090000     21.530000     43.290000   \n",
       "max    16890.000000     26.260000     63.360000     29.856667     56.026667   \n",
       "\n",
       "                 T3          RH_3            T4          RH_4            T5  \\\n",
       "count  15780.000000  15780.000000  15780.000000  15780.000000  15780.000000   \n",
       "mean      22.265359     39.242550     20.853829     39.037623     19.591562   \n",
       "std        2.013391      3.247703      2.046331      4.337781      1.849086   \n",
       "min       17.200000     28.766667     15.100000     27.660000     15.330000   \n",
       "25%       20.790000     36.900000     19.500000     35.530000     18.270000   \n",
       "50%       22.100000     38.560000     20.666667     38.433333     19.390000   \n",
       "75%       23.290000     41.760000     22.100000     42.193333     20.633333   \n",
       "max       29.236000     50.163333     26.200000     51.090000     25.745000   \n",
       "\n",
       "           ...               RH_8            T9          RH_9         T_out  \\\n",
       "count      ...       15780.000000  15780.000000  15780.000000  15780.000000   \n",
       "mean       ...          42.934090     19.489357     41.559527      7.414789   \n",
       "std        ...           5.223342      2.020488      4.135306      5.321081   \n",
       "min        ...          29.600000     14.890000     29.166667     -5.000000   \n",
       "25%        ...          39.066667     18.000000     38.530000      3.680000   \n",
       "50%        ...          42.376214     19.390000     40.900000      6.930000   \n",
       "75%        ...          46.560000     20.600000     44.363333     10.400000   \n",
       "max        ...          58.780000     24.500000     53.326667     26.100000   \n",
       "\n",
       "        Press_mm_hg        RH_out     Windspeed    Visibility     Tdewpoint  \\\n",
       "count  15780.000000  15780.000000  15780.000000  15780.000000  15780.000000   \n",
       "mean     755.514104     79.756982      4.041824     38.378577      3.765539   \n",
       "std        7.385701     14.877160      2.447902     11.810273      4.202025   \n",
       "min      729.300000     24.000000      0.000000      1.000000     -6.600000   \n",
       "25%      750.933333     70.166667      2.000000     29.000000      0.900000   \n",
       "50%      756.100000     83.666667      3.666667     40.000000      3.470000   \n",
       "75%      760.900000     91.666667      5.500000     40.000000      6.550000   \n",
       "max      772.300000    100.000000     14.000000     66.000000     15.500000   \n",
       "\n",
       "             Energy  \n",
       "count  15780.000000  \n",
       "mean      97.294043  \n",
       "std      100.932234  \n",
       "min       10.000000  \n",
       "25%       50.000000  \n",
       "50%       60.000000  \n",
       "75%      100.000000  \n",
       "max      850.000000  \n",
       "\n",
       "[8 rows x 26 columns]"
      ]
     },
     "execution_count": 56,
     "metadata": {},
     "output_type": "execute_result"
    }
   ],
   "source": [
    "energy_data.describe()"
   ]
  },
  {
   "cell_type": "code",
   "execution_count": 57,
   "metadata": {},
   "outputs": [
    {
     "data": {
      "image/png": "[encoded data removed]",
      "text/plain": [
       "<matplotlib.figure.Figure at 0x108d447f0>"
      ]
     },
     "metadata": {},
     "output_type": "display_data"
    }
   ],
   "source": [
    "import matplotlib.pyplot as plt\n",
    "del energy_data['Observation']\n",
    "energy_data.hist(bins = 50, figsize=(20,15))\n",
    "plt.show()"
   ]
  },
  {
   "cell_type": "code",
   "execution_count": 58,
   "metadata": {},
   "outputs": [
    {
     "name": "stdout",
     "output_type": "stream",
     "text": [
      "Train set len:  12624  Test set len:  3156\n"
     ]
    }
   ],
   "source": [
    "#Createing train and test dataset\n",
    "import numpy as np\n",
    "\n",
    "def split_train_test(data, test_ratio):\n",
    "    np.random.seed(42)\n",
    "    shuffled_indices = np.random.permutation(len(data))\n",
    "    test_set_size = int(len(data) * test_ratio)\n",
    "    test_indices = shuffled_indices[:test_set_size]\n",
    "    train_indices = shuffled_indices[test_set_size:]\n",
    "    return data.iloc[train_indices],data.iloc[test_indices]\n",
    "\n",
    "train_set, test_set = split_train_test(energy_data,0.2)\n",
    "print(\"Train set len: \", len(train_set) , \" Test set len: \", len(test_set))"
   ]
  },
  {
   "cell_type": "code",
   "execution_count": 59,
   "metadata": {},
   "outputs": [],
   "source": [
    "corr_matrix = energy_data.corr()"
   ]
  },
  {
   "cell_type": "code",
   "execution_count": 60,
   "metadata": {},
   "outputs": [
    {
     "data": {
      "text/plain": [
       "Energy         1.000000\n",
       "T2             0.116316\n",
       "T6             0.113442\n",
       "T_out          0.094884\n",
       "Windspeed      0.085429\n",
       "RH_1           0.084061\n",
       "T3             0.077231\n",
       "T1             0.052003\n",
       "T4             0.036973\n",
       "T8             0.036721\n",
       "RH_3           0.034955\n",
       "T7             0.021311\n",
       "RH_4           0.015527\n",
       "T5             0.015011\n",
       "Tdewpoint      0.012949\n",
       "RH_5           0.010213\n",
       "T9             0.005882\n",
       "Visibility    -0.003322\n",
       "Press_mm_hg   -0.035648\n",
       "RH_9          -0.054764\n",
       "RH_7          -0.056142\n",
       "RH_2          -0.060233\n",
       "RH_6          -0.079497\n",
       "RH_8          -0.094996\n",
       "RH_out        -0.148250\n",
       "Name: Energy, dtype: float64"
      ]
     },
     "execution_count": 60,
     "metadata": {},
     "output_type": "execute_result"
    }
   ],
   "source": [
    "corr_matrix['Energy'].sort_values(ascending=False)"
   ]
  },
  {
   "cell_type": "code",
   "execution_count": 61,
   "metadata": {},
   "outputs": [],
   "source": [
    "trainX = np.array(train_set.drop(['Energy'],axis = 1))\n",
    "trainY = np.array(train_set['Energy'])"
   ]
  },
  {
   "cell_type": "code",
   "execution_count": 63,
   "metadata": {},
   "outputs": [],
   "source": [
    "testX = np.array(test_set.drop(['Energy'],1))\n",
    "testY = np.array(test_set['Energy'])"
   ]
  },
  {
   "cell_type": "code",
   "execution_count": 64,
   "metadata": {},
   "outputs": [
    {
     "name": "stderr",
     "output_type": "stream",
     "text": [
      "/Library/Frameworks/Python.framework/Versions/3.4/lib/python3.4/site-packages/scipy/linalg/basic.py:1018: RuntimeWarning: internal gelsd driver lwork query error, required iwork dimension not returned. This is likely the result of LAPACK bug 0038, fixed in LAPACK 3.2.2 (released July 21, 2010). Falling back to 'gelss' driver.\n",
      "  warnings.warn(mesg, RuntimeWarning)\n"
     ]
    },
    {
     "data": {
      "text/plain": [
       "LinearRegression(copy_X=True, fit_intercept=True, n_jobs=1, normalize=False)"
      ]
     },
     "execution_count": 64,
     "metadata": {},
     "output_type": "execute_result"
    }
   ],
   "source": [
    "from sklearn.linear_model import LinearRegression\n",
    "lin_reg = LinearRegression()\n",
    "lin_reg.fit(trainX,trainY)"
   ]
  },
  {
   "cell_type": "code",
   "execution_count": 68,
   "metadata": {},
   "outputs": [
    {
     "data": {
      "text/plain": [
       "array([  69.36645228,   96.21655692,   95.20130713, ...,  118.548085  ,\n",
       "        144.01476349,  106.13623204])"
      ]
     },
     "execution_count": 68,
     "metadata": {},
     "output_type": "execute_result"
    }
   ],
   "source": [
    "energy_predictions = lin_reg.predict(testX)\n",
    "energy_predictions"
   ]
  },
  {
   "cell_type": "code",
   "execution_count": 71,
   "metadata": {},
   "outputs": [
    {
     "data": {
      "text/plain": [
       "92.890295444616058"
      ]
     },
     "execution_count": 71,
     "metadata": {},
     "output_type": "execute_result"
    }
   ],
   "source": [
    "from sklearn.metrics import mean_squared_error\n",
    "lin_mse = mean_squared_error(testY,energy_predictions)\n",
    "lin_rmse = np.sqrt(lin_mse)\n",
    "lin_rmse"
   ]
  },
  {
   "cell_type": "code",
   "execution_count": 72,
   "metadata": {},
   "outputs": [
    {
     "data": {
      "text/plain": [
       "DecisionTreeRegressor(criterion='mse', max_depth=None, max_features=None,\n",
       "           max_leaf_nodes=None, min_impurity_decrease=0.0,\n",
       "           min_impurity_split=None, min_samples_leaf=1,\n",
       "           min_samples_split=2, min_weight_fraction_leaf=0.0,\n",
       "           presort=False, random_state=None, splitter='best')"
      ]
     },
     "execution_count": 72,
     "metadata": {},
     "output_type": "execute_result"
    }
   ],
   "source": [
    "#Decision tree Regressor\n",
    "from sklearn.tree import DecisionTreeRegressor\n",
    "\n",
    "tree_reg = DecisionTreeRegressor()\n",
    "tree_reg.fit(trainX,trainY)"
   ]
  },
  {
   "cell_type": "code",
   "execution_count": 73,
   "metadata": {},
   "outputs": [
    {
     "data": {
      "text/plain": [
       "array([  60.,   70.,   60., ...,  100.,   60.,  230.])"
      ]
     },
     "execution_count": 73,
     "metadata": {},
     "output_type": "execute_result"
    }
   ],
   "source": [
    "energy_predictions_dtree = tree_reg.predict(testX)\n",
    "energy_predictions_dtree"
   ]
  },
  {
   "cell_type": "code",
   "execution_count": 74,
   "metadata": {},
   "outputs": [
    {
     "data": {
      "text/plain": [
       "91.113030264082838"
      ]
     },
     "execution_count": 74,
     "metadata": {},
     "output_type": "execute_result"
    }
   ],
   "source": [
    "dtree_mse = mean_squared_error(testY,energy_predictions_dtree)\n",
    "dtree_rmse = np.sqrt(dtree_mse)\n",
    "dtree_rmse"
   ]
  },
  {
   "cell_type": "code",
   "execution_count": 75,
   "metadata": {},
   "outputs": [
    {
     "data": {
      "text/plain": [
       "RandomForestRegressor(bootstrap=True, criterion='mse', max_depth=None,\n",
       "           max_features='auto', max_leaf_nodes=None,\n",
       "           min_impurity_decrease=0.0, min_impurity_split=None,\n",
       "           min_samples_leaf=1, min_samples_split=2,\n",
       "           min_weight_fraction_leaf=0.0, n_estimators=10, n_jobs=1,\n",
       "           oob_score=False, random_state=None, verbose=0, warm_start=False)"
      ]
     },
     "execution_count": 75,
     "metadata": {},
     "output_type": "execute_result"
    }
   ],
   "source": [
    "#Random forest Regressor\n",
    "from sklearn.ensemble import RandomForestRegressor\n",
    "forest_reg = RandomForestRegressor()\n",
    "forest_reg.fit(trainX,trainY)"
   ]
  },
  {
   "cell_type": "code",
   "execution_count": 76,
   "metadata": {},
   "outputs": [
    {
     "data": {
      "text/plain": [
       "array([  44.,   66.,   55., ...,   79.,   59.,  185.])"
      ]
     },
     "execution_count": 76,
     "metadata": {},
     "output_type": "execute_result"
    }
   ],
   "source": [
    "energy_predictions_ftree = forest_reg.predict(testX)\n",
    "energy_predictions_ftree"
   ]
  },
  {
   "cell_type": "code",
   "execution_count": 77,
   "metadata": {},
   "outputs": [
    {
     "data": {
      "text/plain": [
       "70.107173975557146"
      ]
     },
     "execution_count": 77,
     "metadata": {},
     "output_type": "execute_result"
    }
   ],
   "source": [
    "ftree_mse = mean_squared_error(testY,energy_predictions_ftree)\n",
    "ftree_rmse = np.sqrt(ftree_mse)\n",
    "ftree_rmse"
   ]
  },
  {
   "cell_type": "code",
   "execution_count": 81,
   "metadata": {},
   "outputs": [
    {
     "data": {
      "text/plain": [
       "array([ 44,  66,  55, ...,  79,  59, 185])"
      ]
     },
     "execution_count": 81,
     "metadata": {},
     "output_type": "execute_result"
    }
   ],
   "source": [
    "energy_predictions_ftree.astype(int)"
   ]
  },
  {
   "cell_type": "code",
   "execution_count": 89,
   "metadata": {},
   "outputs": [
    {
     "data": {
      "text/html": [
       "<div>\n",
       "<style>\n",
       "    .dataframe thead tr:only-child th {\n",
       "        text-align: right;\n",
       "    }\n",
       "\n",
       "    .dataframe thead th {\n",
       "        text-align: left;\n",
       "    }\n",
       "\n",
       "    .dataframe tbody tr th {\n",
       "        vertical-align: top;\n",
       "    }\n",
       "</style>\n",
       "<table border=\"1\" class=\"dataframe\">\n",
       "  <thead>\n",
       "    <tr style=\"text-align: right;\">\n",
       "      <th></th>\n",
       "      <th>T1</th>\n",
       "      <th>RH_1</th>\n",
       "      <th>T2</th>\n",
       "      <th>RH_2</th>\n",
       "      <th>T3</th>\n",
       "      <th>RH_3</th>\n",
       "      <th>T4</th>\n",
       "      <th>RH_4</th>\n",
       "      <th>T5</th>\n",
       "      <th>RH_5</th>\n",
       "      <th>...</th>\n",
       "      <th>T8</th>\n",
       "      <th>RH_8</th>\n",
       "      <th>T9</th>\n",
       "      <th>RH_9</th>\n",
       "      <th>T_out</th>\n",
       "      <th>Press_mm_hg</th>\n",
       "      <th>RH_out</th>\n",
       "      <th>Windspeed</th>\n",
       "      <th>Visibility</th>\n",
       "      <th>Tdewpoint</th>\n",
       "    </tr>\n",
       "  </thead>\n",
       "  <tbody>\n",
       "    <tr>\n",
       "      <th>0</th>\n",
       "      <td>21.100000</td>\n",
       "      <td>39.90</td>\n",
       "      <td>19.290000</td>\n",
       "      <td>41.260000</td>\n",
       "      <td>21.500000</td>\n",
       "      <td>40.700000</td>\n",
       "      <td>18.89</td>\n",
       "      <td>41.200000</td>\n",
       "      <td>18.088889</td>\n",
       "      <td>52.080000</td>\n",
       "      <td>...</td>\n",
       "      <td>21.600000</td>\n",
       "      <td>47.090000</td>\n",
       "      <td>18.100000</td>\n",
       "      <td>44.90</td>\n",
       "      <td>2.70</td>\n",
       "      <td>733.633333</td>\n",
       "      <td>98.166667</td>\n",
       "      <td>2.0</td>\n",
       "      <td>34.833333</td>\n",
       "      <td>2.43</td>\n",
       "    </tr>\n",
       "    <tr>\n",
       "      <th>1</th>\n",
       "      <td>22.600000</td>\n",
       "      <td>39.03</td>\n",
       "      <td>20.790000</td>\n",
       "      <td>40.463333</td>\n",
       "      <td>22.290000</td>\n",
       "      <td>38.290000</td>\n",
       "      <td>20.29</td>\n",
       "      <td>36.700000</td>\n",
       "      <td>20.760000</td>\n",
       "      <td>43.666667</td>\n",
       "      <td>...</td>\n",
       "      <td>23.760000</td>\n",
       "      <td>39.266667</td>\n",
       "      <td>19.390000</td>\n",
       "      <td>37.50</td>\n",
       "      <td>7.27</td>\n",
       "      <td>756.666667</td>\n",
       "      <td>82.000000</td>\n",
       "      <td>2.0</td>\n",
       "      <td>40.000000</td>\n",
       "      <td>4.40</td>\n",
       "    </tr>\n",
       "    <tr>\n",
       "      <th>2</th>\n",
       "      <td>21.000000</td>\n",
       "      <td>35.59</td>\n",
       "      <td>19.790000</td>\n",
       "      <td>34.900000</td>\n",
       "      <td>21.166667</td>\n",
       "      <td>35.833333</td>\n",
       "      <td>20.39</td>\n",
       "      <td>33.090000</td>\n",
       "      <td>18.000000</td>\n",
       "      <td>45.700000</td>\n",
       "      <td>...</td>\n",
       "      <td>22.600000</td>\n",
       "      <td>34.126667</td>\n",
       "      <td>18.200000</td>\n",
       "      <td>39.79</td>\n",
       "      <td>6.05</td>\n",
       "      <td>751.250000</td>\n",
       "      <td>50.000000</td>\n",
       "      <td>6.5</td>\n",
       "      <td>34.500000</td>\n",
       "      <td>-3.70</td>\n",
       "    </tr>\n",
       "    <tr>\n",
       "      <th>3</th>\n",
       "      <td>20.566667</td>\n",
       "      <td>37.59</td>\n",
       "      <td>20.566667</td>\n",
       "      <td>35.700000</td>\n",
       "      <td>20.166667</td>\n",
       "      <td>37.000000</td>\n",
       "      <td>22.00</td>\n",
       "      <td>35.326667</td>\n",
       "      <td>17.700000</td>\n",
       "      <td>45.400000</td>\n",
       "      <td>...</td>\n",
       "      <td>20.666667</td>\n",
       "      <td>36.966667</td>\n",
       "      <td>18.000000</td>\n",
       "      <td>41.29</td>\n",
       "      <td>9.35</td>\n",
       "      <td>758.716667</td>\n",
       "      <td>58.333333</td>\n",
       "      <td>1.0</td>\n",
       "      <td>25.166667</td>\n",
       "      <td>1.48</td>\n",
       "    </tr>\n",
       "    <tr>\n",
       "      <th>4</th>\n",
       "      <td>21.500000</td>\n",
       "      <td>38.70</td>\n",
       "      <td>18.566667</td>\n",
       "      <td>42.030000</td>\n",
       "      <td>22.500000</td>\n",
       "      <td>38.900000</td>\n",
       "      <td>20.00</td>\n",
       "      <td>39.000000</td>\n",
       "      <td>19.633333</td>\n",
       "      <td>48.826667</td>\n",
       "      <td>...</td>\n",
       "      <td>23.390000</td>\n",
       "      <td>45.326667</td>\n",
       "      <td>20.133333</td>\n",
       "      <td>43.20</td>\n",
       "      <td>3.03</td>\n",
       "      <td>758.850000</td>\n",
       "      <td>95.000000</td>\n",
       "      <td>2.0</td>\n",
       "      <td>60.333333</td>\n",
       "      <td>2.25</td>\n",
       "    </tr>\n",
       "  </tbody>\n",
       "</table>\n",
       "<p>5 rows × 24 columns</p>\n",
       "</div>"
      ],
      "text/plain": [
       "          T1   RH_1         T2       RH_2         T3       RH_3     T4  \\\n",
       "0  21.100000  39.90  19.290000  41.260000  21.500000  40.700000  18.89   \n",
       "1  22.600000  39.03  20.790000  40.463333  22.290000  38.290000  20.29   \n",
       "2  21.000000  35.59  19.790000  34.900000  21.166667  35.833333  20.39   \n",
       "3  20.566667  37.59  20.566667  35.700000  20.166667  37.000000  22.00   \n",
       "4  21.500000  38.70  18.566667  42.030000  22.500000  38.900000  20.00   \n",
       "\n",
       "        RH_4         T5       RH_5    ...             T8       RH_8  \\\n",
       "0  41.200000  18.088889  52.080000    ...      21.600000  47.090000   \n",
       "1  36.700000  20.760000  43.666667    ...      23.760000  39.266667   \n",
       "2  33.090000  18.000000  45.700000    ...      22.600000  34.126667   \n",
       "3  35.326667  17.700000  45.400000    ...      20.666667  36.966667   \n",
       "4  39.000000  19.633333  48.826667    ...      23.390000  45.326667   \n",
       "\n",
       "          T9   RH_9  T_out  Press_mm_hg     RH_out  Windspeed  Visibility  \\\n",
       "0  18.100000  44.90   2.70   733.633333  98.166667        2.0   34.833333   \n",
       "1  19.390000  37.50   7.27   756.666667  82.000000        2.0   40.000000   \n",
       "2  18.200000  39.79   6.05   751.250000  50.000000        6.5   34.500000   \n",
       "3  18.000000  41.29   9.35   758.716667  58.333333        1.0   25.166667   \n",
       "4  20.133333  43.20   3.03   758.850000  95.000000        2.0   60.333333   \n",
       "\n",
       "   Tdewpoint  \n",
       "0       2.43  \n",
       "1       4.40  \n",
       "2      -3.70  \n",
       "3       1.48  \n",
       "4       2.25  \n",
       "\n",
       "[5 rows x 24 columns]"
      ]
     },
     "execution_count": 89,
     "metadata": {},
     "output_type": "execute_result"
    }
   ],
   "source": [
    "energy_data_submission = pd.read_csv('test.csv',skipinitialspace=True)\n",
    "a = energy_data_submission['Observation']\n",
    "del energy_data_submission['Observation']\n",
    "energy_data_submission.head()"
   ]
  },
  {
   "cell_type": "code",
   "execution_count": 85,
   "metadata": {},
   "outputs": [
    {
     "data": {
      "text/plain": [
       "array([  52.,   82.,   60., ...,  113.,  100.,  148.])"
      ]
     },
     "execution_count": 85,
     "metadata": {},
     "output_type": "execute_result"
    }
   ],
   "source": [
    "sub_predictions_ftree = forest_reg.predict(energy_data_submission)\n",
    "sub_predictions_ftree"
   ]
  },
  {
   "cell_type": "code",
   "execution_count": 90,
   "metadata": {},
   "outputs": [],
   "source": [
    "sub_predictions_ftree = sub_predictions_ftree.astype(int)"
   ]
  },
  {
   "cell_type": "code",
   "execution_count": 96,
   "metadata": {},
   "outputs": [
    {
     "name": "stderr",
     "output_type": "stream",
     "text": [
      "/Library/Frameworks/Python.framework/Versions/3.4/lib/python3.4/site-packages/ipykernel_launcher.py:3: FutureWarning: reshape is deprecated and will raise in a subsequent release. Please use .values.reshape(...) instead\n",
      "  This is separate from the ipykernel package so we can avoid doing imports until\n"
     ]
    }
   ],
   "source": [
    "b = sub_predictions_ftree.reshape(-1,1)\n",
    "a = a.reshape(-1,1)\n",
    "result = np.concatenate((a,b),axis=1)\n",
    "result = pd.DataFrame(result)\n",
    "result.to_csv(\"/Users/archana/Documents/Projects/Machine_Learning/ae5e3a76-0-energy/submission_ftree.csv\")"
   ]
  },
  {
   "cell_type": "code",
   "execution_count": 101,
   "metadata": {},
   "outputs": [],
   "source": []
  },
  {
   "cell_type": "code",
   "execution_count": 102,
   "metadata": {},
   "outputs": [],
   "source": [
    "sub_predictions_dtree = tree_reg.predict(energy_data_submission)\n",
    "sub_predictions_dtree = sub_predictions_dtree.astype(int)\n",
    "b = sub_predictions_dtree.reshape(-1,1)\n",
    "a = a.reshape(-1,1)\n",
    "result = np.concatenate((a,b),axis=1)\n",
    "result = pd.DataFrame(result)\n",
    "result.to_csv(\"/Users/archana/Documents/Projects/Machine_Learning/ae5e3a76-0-energy/submission_dtree.csv\")"
   ]
  },
  {
   "cell_type": "code",
   "execution_count": 103,
   "metadata": {},
   "outputs": [],
   "source": [
    "sub_predictions_lreg = lin_reg.predict(energy_data_submission)\n",
    "sub_predictions_lreg = sub_predictions_lreg.astype(int)\n",
    "b = sub_predictions_lreg.reshape(-1,1)\n",
    "a = a.reshape(-1,1)\n",
    "result = np.concatenate((a,b),axis=1)\n",
    "result = pd.DataFrame(result)\n",
    "result.to_csv(\"/Users/archana/Documents/Projects/Machine_Learning/ae5e3a76-0-energy/submission_lreg.csv\")"
   ]
  },
  {
   "cell_type": "code",
   "execution_count": 104,
   "metadata": {},
   "outputs": [
    {
     "data": {
      "text/plain": [
       "LinearRegression(copy_X=True, fit_intercept=True, n_jobs=1, normalize=False)"
      ]
     },
     "execution_count": 104,
     "metadata": {},
     "output_type": "execute_result"
    }
   ],
   "source": [
    "# Logistic regression\n",
    "\n",
    "from sklearn.linear_model import LogisticRegression\n",
    "log_reg = LinearRegression()\n",
    "log_reg.fit(trainX,trainY)"
   ]
  },
  {
   "cell_type": "code",
   "execution_count": 105,
   "metadata": {},
   "outputs": [
    {
     "data": {
      "text/plain": [
       "array([  69.36645228,   96.21655692,   95.20130713, ...,  118.548085  ,\n",
       "        144.01476349,  106.13623204])"
      ]
     },
     "execution_count": 105,
     "metadata": {},
     "output_type": "execute_result"
    }
   ],
   "source": [
    "energy_predictions_log = log_reg.predict(testX)\n",
    "energy_predictions_log"
   ]
  },
  {
   "cell_type": "code",
   "execution_count": 106,
   "metadata": {},
   "outputs": [
    {
     "data": {
      "text/plain": [
       "92.890295444616058"
      ]
     },
     "execution_count": 106,
     "metadata": {},
     "output_type": "execute_result"
    }
   ],
   "source": [
    "log_mse = mean_squared_error(testY,energy_predictions_log)\n",
    "log_rmse = np.sqrt(log_mse)\n",
    "log_rmse"
   ]
  },
  {
   "cell_type": "code",
   "execution_count": 110,
   "metadata": {},
   "outputs": [
    {
     "data": {
      "text/plain": [
       "LinearSVR(C=1.0, dual=True, epsilon=0.1, fit_intercept=True,\n",
       "     intercept_scaling=1.0, loss='epsilon_insensitive', max_iter=1000,\n",
       "     random_state=None, tol=0.0001, verbose=0)"
      ]
     },
     "execution_count": 110,
     "metadata": {},
     "output_type": "execute_result"
    }
   ],
   "source": [
    "# SVM regression\n",
    "\n",
    "from sklearn.svm import LinearSVR\n",
    "\n",
    "svm_reg = LinearSVR(epsilon=0.1)\n",
    "svm_reg.fit(trainX,trainY)"
   ]
  },
  {
   "cell_type": "code",
   "execution_count": 111,
   "metadata": {},
   "outputs": [
    {
     "data": {
      "text/plain": [
       "array([  89.99918287,  119.36013504,  114.37206136, ...,  135.54734548,\n",
       "        160.34574667,  118.18087941])"
      ]
     },
     "execution_count": 111,
     "metadata": {},
     "output_type": "execute_result"
    }
   ],
   "source": [
    "energy_predictions_svr= svm_reg.predict(testX)\n",
    "energy_predictions_svr"
   ]
  },
  {
   "cell_type": "code",
   "execution_count": 112,
   "metadata": {},
   "outputs": [
    {
     "data": {
      "text/plain": [
       "94.941388767118099"
      ]
     },
     "execution_count": 112,
     "metadata": {},
     "output_type": "execute_result"
    }
   ],
   "source": [
    "svr_mse = mean_squared_error(testY,energy_predictions_svr)\n",
    "svr_rmse = np.sqrt(svr_mse)\n",
    "svr_rmse"
   ]
  },
  {
   "cell_type": "code",
   "execution_count": 123,
   "metadata": {},
   "outputs": [],
   "source": [
    "# Normalize data and try Random Forest Regressor\n",
    "from sklearn import preprocessing\n",
    "trainX_N = preprocessing.normalize(trainX)\n",
    "testX_N = preprocessing.normalize(testX)"
   ]
  },
  {
   "cell_type": "code",
   "execution_count": 124,
   "metadata": {},
   "outputs": [
    {
     "data": {
      "text/plain": [
       "RandomForestRegressor(bootstrap=True, criterion='mse', max_depth=None,\n",
       "           max_features='auto', max_leaf_nodes=None,\n",
       "           min_impurity_decrease=0.0, min_impurity_split=None,\n",
       "           min_samples_leaf=1, min_samples_split=2,\n",
       "           min_weight_fraction_leaf=0.0, n_estimators=10, n_jobs=1,\n",
       "           oob_score=False, random_state=None, verbose=0, warm_start=False)"
      ]
     },
     "execution_count": 124,
     "metadata": {},
     "output_type": "execute_result"
    }
   ],
   "source": [
    "forest_reg.fit(trainX_N,trainY)\n"
   ]
  },
  {
   "cell_type": "code",
   "execution_count": 125,
   "metadata": {},
   "outputs": [
    {
     "data": {
      "text/plain": [
       "array([  47.,   65.,  104., ...,   92.,   52.,  136.])"
      ]
     },
     "execution_count": 125,
     "metadata": {},
     "output_type": "execute_result"
    }
   ],
   "source": [
    "sub_predictions_ftree_N = forest_reg.predict(testX_N)\n",
    "sub_predictions_ftree_N"
   ]
  },
  {
   "cell_type": "code",
   "execution_count": 126,
   "metadata": {},
   "outputs": [
    {
     "data": {
      "text/plain": [
       "72.6367204373486"
      ]
     },
     "execution_count": 126,
     "metadata": {},
     "output_type": "execute_result"
    }
   ],
   "source": [
    "ftree_N_mse = mean_squared_error(testY,sub_predictions_ftree_N)\n",
    "ftree_N_rmse = np.sqrt(ftree_N_mse)\n",
    "ftree_N_rmse"
   ]
  },
  {
   "cell_type": "code",
   "execution_count": 127,
   "metadata": {},
   "outputs": [
    {
     "data": {
      "text/plain": [
       "array([  45.,   82.,   50., ...,   86.,   87.,  218.])"
      ]
     },
     "execution_count": 127,
     "metadata": {},
     "output_type": "execute_result"
    }
   ],
   "source": [
    "N_predictions_ftree = forest_reg.predict(preprocessing.normalize(energy_data_submission))\n",
    "N_predictions_ftree"
   ]
  },
  {
   "cell_type": "code",
   "execution_count": 128,
   "metadata": {},
   "outputs": [],
   "source": [
    "N_predictions_ftree = N_predictions_ftree.astype(int)\n",
    "b = N_predictions_ftree.reshape(-1,1)\n",
    "a = a.reshape(-1,1)\n",
    "result = np.concatenate((a,b),axis=1)\n",
    "result = pd.DataFrame(result)\n",
    "result.to_csv(\"/Users/archana/Documents/Projects/Machine_Learning/ae5e3a76-0-energy/submission_ftree_N.csv\")"
   ]
  },
  {
   "cell_type": "code",
   "execution_count": null,
   "metadata": {},
   "outputs": [],
   "source": []
  }
 ],
 "metadata": {
  "kernelspec": {
   "display_name": "Python 3",
   "language": "python",
   "name": "python3"
  },
  "language_info": {
   "codemirror_mode": {
    "name": "ipython",
    "version": 3
   },
   "file_extension": ".py",
   "mimetype": "text/x-python",
   "name": "python",
   "nbconvert_exporter": "python",
   "pygments_lexer": "ipython3",
   "version": "3.4.3"
  }
 },
 "nbformat": 4,
 "nbformat_minor": 2
}
